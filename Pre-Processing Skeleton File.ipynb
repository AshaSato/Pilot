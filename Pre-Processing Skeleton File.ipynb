{
 "cells": [
  {
   "cell_type": "markdown",
   "metadata": {},
   "source": [
    "# Pre-Processing Skeleton File"
   ]
  },
  {
   "cell_type": "markdown",
   "metadata": {},
   "source": [
    "File for pre-processing skeletonfile to make it easier to work with in Processing: \n",
    "1. Transform skeleton around ShoulderSpine XYZ (0,0,0) \n",
    "2. Scale up (original values are in metres)"
   ]
  },
  {
   "cell_type": "markdown",
   "metadata": {},
   "source": [
    "Read in file: "
   ]
  },
  {
   "cell_type": "code",
   "execution_count": 1,
   "metadata": {
    "collapsed": false
   },
   "outputs": [
    {
     "data": {
      "text/html": [
       "<table>\n",
       "<thead><tr><th scope=col>SpineBase_TrackingState</th><th scope=col>SpineBase_X</th><th scope=col>SpineBase_Y</th><th scope=col>SpineBase_Z</th><th scope=col>SpineMid_TrackingState</th><th scope=col>SpineMid_X</th><th scope=col>SpineMid_Y</th><th scope=col>SpineMid_Z</th><th scope=col>Neck_TrackingState</th><th scope=col>Neck_X</th><th scope=col>⋯</th><th scope=col>ThumbLeft_Z</th><th scope=col>HandTipRight_TrackingState</th><th scope=col>HandTipRight_X</th><th scope=col>HandTipRight_Y</th><th scope=col>HandTipRight_Z</th><th scope=col>ThumbRight_TrackingState</th><th scope=col>ThumbRight_X</th><th scope=col>ThumbRight_Y</th><th scope=col>ThumbRight_Z</th><th scope=col>X</th></tr></thead>\n",
       "<tbody>\n",
       "\t<tr><td>Tracked   </td><td>0.1144249 </td><td>-0.7940223</td><td>2.141369  </td><td>Tracked   </td><td>0.1117537 </td><td>-0.5194155</td><td>2.199907  </td><td>Tracked   </td><td>0.1085431 </td><td>⋯         </td><td>2.048513  </td><td>Tracked   </td><td>0.2792288 </td><td>-0.8913223</td><td>2.011466  </td><td>Tracked   </td><td>0.3181202 </td><td>-0.8266467</td><td>2.012390  </td><td>NA        </td></tr>\n",
       "\t<tr><td>Tracked   </td><td>0.1143879 </td><td>-0.7938015</td><td>2.141353  </td><td>Tracked   </td><td>0.1117545 </td><td>-0.5193324</td><td>2.199892  </td><td>Tracked   </td><td>0.1085545 </td><td>⋯         </td><td>2.050500  </td><td>Tracked   </td><td>0.2834016 </td><td>-0.8884198</td><td>2.011924  </td><td>Tracked   </td><td>0.3122548 </td><td>-0.8248562</td><td>2.005080  </td><td>NA        </td></tr>\n",
       "\t<tr><td>Tracked   </td><td>0.1143184 </td><td>-0.7938535</td><td>2.141392  </td><td>Tracked   </td><td>0.1117100 </td><td>-0.5193307</td><td>2.199876  </td><td>Tracked   </td><td>0.1084848 </td><td>⋯         </td><td>2.047621  </td><td>Tracked   </td><td>0.2827896 </td><td>-0.8867280</td><td>2.008205  </td><td>Tracked   </td><td>0.3158181 </td><td>-0.8325405</td><td>2.009929  </td><td>NA        </td></tr>\n",
       "\t<tr><td>Tracked   </td><td>0.1142905 </td><td>-0.7932864</td><td>2.141688  </td><td>Tracked   </td><td>0.1114781 </td><td>-0.5191494</td><td>2.199887  </td><td>Tracked   </td><td>0.1078020 </td><td>⋯         </td><td>2.050318  </td><td>Tracked   </td><td>0.2845034 </td><td>-0.8889893</td><td>2.012894  </td><td>Tracked   </td><td>0.3172803 </td><td>-0.8315507</td><td>2.015347  </td><td>NA        </td></tr>\n",
       "\t<tr><td>Tracked   </td><td>0.1142367 </td><td>-0.7931603</td><td>2.141749  </td><td>Tracked   </td><td>0.1112640 </td><td>-0.5190801</td><td>2.199929  </td><td>Tracked   </td><td>0.1073081 </td><td>⋯         </td><td>2.062167  </td><td>Tracked   </td><td>0.2857209 </td><td>-0.8903086</td><td>2.013870  </td><td>Tracked   </td><td>0.3170360 </td><td>-0.8286194</td><td>2.012441  </td><td>NA        </td></tr>\n",
       "\t<tr><td>Tracked   </td><td>0.1136087 </td><td>-0.7931804</td><td>2.142140  </td><td>Tracked   </td><td>0.1108190 </td><td>-0.5191454</td><td>2.199896  </td><td>Tracked   </td><td>0.1068861 </td><td>⋯         </td><td>2.059242  </td><td>Tracked   </td><td>0.2828036 </td><td>-0.8906606</td><td>2.016311  </td><td>Tracked   </td><td>0.3168982 </td><td>-0.8337800</td><td>2.015312  </td><td>NA        </td></tr>\n",
       "</tbody>\n",
       "</table>\n"
      ],
      "text/latex": [
       "\\begin{tabular}{r|lllllllllllllllllllllllllllllllllllllllllllllllllllllllllllllllllllllllllllllllllllllllllllllllllllll}\n",
       " SpineBase\\_TrackingState & SpineBase\\_X & SpineBase\\_Y & SpineBase\\_Z & SpineMid\\_TrackingState & SpineMid\\_X & SpineMid\\_Y & SpineMid\\_Z & Neck\\_TrackingState & Neck\\_X & ⋯ & ThumbLeft\\_Z & HandTipRight\\_TrackingState & HandTipRight\\_X & HandTipRight\\_Y & HandTipRight\\_Z & ThumbRight\\_TrackingState & ThumbRight\\_X & ThumbRight\\_Y & ThumbRight\\_Z & X\\\\\n",
       "\\hline\n",
       "\t Tracked    & 0.1144249  & -0.7940223 & 2.141369   & Tracked    & 0.1117537  & -0.5194155 & 2.199907   & Tracked    & 0.1085431  & ⋯          & 2.048513   & Tracked    & 0.2792288  & -0.8913223 & 2.011466   & Tracked    & 0.3181202  & -0.8266467 & 2.012390   & NA        \\\\\n",
       "\t Tracked    & 0.1143879  & -0.7938015 & 2.141353   & Tracked    & 0.1117545  & -0.5193324 & 2.199892   & Tracked    & 0.1085545  & ⋯          & 2.050500   & Tracked    & 0.2834016  & -0.8884198 & 2.011924   & Tracked    & 0.3122548  & -0.8248562 & 2.005080   & NA        \\\\\n",
       "\t Tracked    & 0.1143184  & -0.7938535 & 2.141392   & Tracked    & 0.1117100  & -0.5193307 & 2.199876   & Tracked    & 0.1084848  & ⋯          & 2.047621   & Tracked    & 0.2827896  & -0.8867280 & 2.008205   & Tracked    & 0.3158181  & -0.8325405 & 2.009929   & NA        \\\\\n",
       "\t Tracked    & 0.1142905  & -0.7932864 & 2.141688   & Tracked    & 0.1114781  & -0.5191494 & 2.199887   & Tracked    & 0.1078020  & ⋯          & 2.050318   & Tracked    & 0.2845034  & -0.8889893 & 2.012894   & Tracked    & 0.3172803  & -0.8315507 & 2.015347   & NA        \\\\\n",
       "\t Tracked    & 0.1142367  & -0.7931603 & 2.141749   & Tracked    & 0.1112640  & -0.5190801 & 2.199929   & Tracked    & 0.1073081  & ⋯          & 2.062167   & Tracked    & 0.2857209  & -0.8903086 & 2.013870   & Tracked    & 0.3170360  & -0.8286194 & 2.012441   & NA        \\\\\n",
       "\t Tracked    & 0.1136087  & -0.7931804 & 2.142140   & Tracked    & 0.1108190  & -0.5191454 & 2.199896   & Tracked    & 0.1068861  & ⋯          & 2.059242   & Tracked    & 0.2828036  & -0.8906606 & 2.016311   & Tracked    & 0.3168982  & -0.8337800 & 2.015312   & NA        \\\\\n",
       "\\end{tabular}\n"
      ],
      "text/markdown": [
       "\n",
       "SpineBase_TrackingState | SpineBase_X | SpineBase_Y | SpineBase_Z | SpineMid_TrackingState | SpineMid_X | SpineMid_Y | SpineMid_Z | Neck_TrackingState | Neck_X | ⋯ | ThumbLeft_Z | HandTipRight_TrackingState | HandTipRight_X | HandTipRight_Y | HandTipRight_Z | ThumbRight_TrackingState | ThumbRight_X | ThumbRight_Y | ThumbRight_Z | X | \n",
       "|---|---|---|---|---|---|\n",
       "| Tracked    | 0.1144249  | -0.7940223 | 2.141369   | Tracked    | 0.1117537  | -0.5194155 | 2.199907   | Tracked    | 0.1085431  | ⋯          | 2.048513   | Tracked    | 0.2792288  | -0.8913223 | 2.011466   | Tracked    | 0.3181202  | -0.8266467 | 2.012390   | NA         | \n",
       "| Tracked    | 0.1143879  | -0.7938015 | 2.141353   | Tracked    | 0.1117545  | -0.5193324 | 2.199892   | Tracked    | 0.1085545  | ⋯          | 2.050500   | Tracked    | 0.2834016  | -0.8884198 | 2.011924   | Tracked    | 0.3122548  | -0.8248562 | 2.005080   | NA         | \n",
       "| Tracked    | 0.1143184  | -0.7938535 | 2.141392   | Tracked    | 0.1117100  | -0.5193307 | 2.199876   | Tracked    | 0.1084848  | ⋯          | 2.047621   | Tracked    | 0.2827896  | -0.8867280 | 2.008205   | Tracked    | 0.3158181  | -0.8325405 | 2.009929   | NA         | \n",
       "| Tracked    | 0.1142905  | -0.7932864 | 2.141688   | Tracked    | 0.1114781  | -0.5191494 | 2.199887   | Tracked    | 0.1078020  | ⋯          | 2.050318   | Tracked    | 0.2845034  | -0.8889893 | 2.012894   | Tracked    | 0.3172803  | -0.8315507 | 2.015347   | NA         | \n",
       "| Tracked    | 0.1142367  | -0.7931603 | 2.141749   | Tracked    | 0.1112640  | -0.5190801 | 2.199929   | Tracked    | 0.1073081  | ⋯          | 2.062167   | Tracked    | 0.2857209  | -0.8903086 | 2.013870   | Tracked    | 0.3170360  | -0.8286194 | 2.012441   | NA         | \n",
       "| Tracked    | 0.1136087  | -0.7931804 | 2.142140   | Tracked    | 0.1108190  | -0.5191454 | 2.199896   | Tracked    | 0.1068861  | ⋯          | 2.059242   | Tracked    | 0.2828036  | -0.8906606 | 2.016311   | Tracked    | 0.3168982  | -0.8337800 | 2.015312   | NA         | \n",
       "\n",
       "\n"
      ],
      "text/plain": [
       "  SpineBase_TrackingState SpineBase_X SpineBase_Y SpineBase_Z\n",
       "1 Tracked                 0.1144249   -0.7940223  2.141369   \n",
       "2 Tracked                 0.1143879   -0.7938015  2.141353   \n",
       "3 Tracked                 0.1143184   -0.7938535  2.141392   \n",
       "4 Tracked                 0.1142905   -0.7932864  2.141688   \n",
       "5 Tracked                 0.1142367   -0.7931603  2.141749   \n",
       "6 Tracked                 0.1136087   -0.7931804  2.142140   \n",
       "  SpineMid_TrackingState SpineMid_X SpineMid_Y SpineMid_Z Neck_TrackingState\n",
       "1 Tracked                0.1117537  -0.5194155 2.199907   Tracked           \n",
       "2 Tracked                0.1117545  -0.5193324 2.199892   Tracked           \n",
       "3 Tracked                0.1117100  -0.5193307 2.199876   Tracked           \n",
       "4 Tracked                0.1114781  -0.5191494 2.199887   Tracked           \n",
       "5 Tracked                0.1112640  -0.5190801 2.199929   Tracked           \n",
       "6 Tracked                0.1108190  -0.5191454 2.199896   Tracked           \n",
       "  Neck_X    ⋯ ThumbLeft_Z HandTipRight_TrackingState HandTipRight_X\n",
       "1 0.1085431 ⋯ 2.048513    Tracked                    0.2792288     \n",
       "2 0.1085545 ⋯ 2.050500    Tracked                    0.2834016     \n",
       "3 0.1084848 ⋯ 2.047621    Tracked                    0.2827896     \n",
       "4 0.1078020 ⋯ 2.050318    Tracked                    0.2845034     \n",
       "5 0.1073081 ⋯ 2.062167    Tracked                    0.2857209     \n",
       "6 0.1068861 ⋯ 2.059242    Tracked                    0.2828036     \n",
       "  HandTipRight_Y HandTipRight_Z ThumbRight_TrackingState ThumbRight_X\n",
       "1 -0.8913223     2.011466       Tracked                  0.3181202   \n",
       "2 -0.8884198     2.011924       Tracked                  0.3122548   \n",
       "3 -0.8867280     2.008205       Tracked                  0.3158181   \n",
       "4 -0.8889893     2.012894       Tracked                  0.3172803   \n",
       "5 -0.8903086     2.013870       Tracked                  0.3170360   \n",
       "6 -0.8906606     2.016311       Tracked                  0.3168982   \n",
       "  ThumbRight_Y ThumbRight_Z X \n",
       "1 -0.8266467   2.012390     NA\n",
       "2 -0.8248562   2.005080     NA\n",
       "3 -0.8325405   2.009929     NA\n",
       "4 -0.8315507   2.015347     NA\n",
       "5 -0.8286194   2.012441     NA\n",
       "6 -0.8337800   2.015312     NA"
      ]
     },
     "metadata": {},
     "output_type": "display_data"
    }
   ],
   "source": [
    "skelly <- read.csv(\"~/Desktop/skeletonOutput.txt\")\n",
    "head(skelly)"
   ]
  },
  {
   "cell_type": "markdown",
   "metadata": {},
   "source": [
    "## Transform XYZ around ShoulderSpine"
   ]
  },
  {
   "cell_type": "markdown",
   "metadata": {},
   "source": [
    "Subtract ShoulderSpine_X from all X. \n",
    "\n",
    "Subtract ShoulderSpine_Y from all Y.\n",
    "\n",
    "Subtract ShoulderSpine_Z from all Z."
   ]
  },
  {
   "cell_type": "code",
   "execution_count": 2,
   "metadata": {
    "collapsed": false
   },
   "outputs": [
    {
     "data": {
      "text/html": [
       "<table>\n",
       "<thead><tr><th scope=col>SpineBase_TrackingState</th><th scope=col>SpineBase_X</th><th scope=col>SpineBase_Y</th><th scope=col>SpineBase_Z</th><th scope=col>SpineMid_TrackingState</th><th scope=col>SpineMid_X</th><th scope=col>SpineMid_Y</th><th scope=col>SpineMid_Z</th><th scope=col>Neck_TrackingState</th><th scope=col>Neck_X</th><th scope=col>⋯</th><th scope=col>ThumbLeft_Z</th><th scope=col>HandTipRight_TrackingState</th><th scope=col>HandTipRight_X</th><th scope=col>HandTipRight_Y</th><th scope=col>HandTipRight_Z</th><th scope=col>ThumbRight_TrackingState</th><th scope=col>ThumbRight_X</th><th scope=col>ThumbRight_Y</th><th scope=col>ThumbRight_Z</th><th scope=col>X</th></tr></thead>\n",
       "<tbody>\n",
       "\t<tr><td>Tracked   </td><td>0.0049814 </td><td>-0.4777506</td><td>-0.094604 </td><td>Tracked   </td><td>0.0023102 </td><td>-0.2031438</td><td>-0.036066 </td><td>Tracked   </td><td>-0.0009004</td><td>⋯         </td><td>-0.187460 </td><td>Tracked   </td><td>0.1697853 </td><td>-0.5750506</td><td>-0.224507 </td><td>Tracked   </td><td>0.2086767 </td><td>-0.5103750</td><td>-0.223583 </td><td>NA        </td></tr>\n",
       "\t<tr><td>Tracked   </td><td>0.0049341 </td><td>-0.4775558</td><td>-0.094608 </td><td>Tracked   </td><td>0.0023007 </td><td>-0.2030867</td><td>-0.036069 </td><td>Tracked   </td><td>-0.0008993</td><td>⋯         </td><td>-0.185461 </td><td>Tracked   </td><td>0.1739478 </td><td>-0.5721741</td><td>-0.224037 </td><td>Tracked   </td><td>0.2028010 </td><td>-0.5086105</td><td>-0.230881 </td><td>NA        </td></tr>\n",
       "\t<tr><td>Tracked   </td><td>0.0049264 </td><td>-0.4776506</td><td>-0.094496 </td><td>Tracked   </td><td>0.0023180 </td><td>-0.2031278</td><td>-0.036012 </td><td>Tracked   </td><td>-0.0009072</td><td>⋯         </td><td>-0.188267 </td><td>Tracked   </td><td>0.1733976 </td><td>-0.5705251</td><td>-0.227683 </td><td>Tracked   </td><td>0.2064261 </td><td>-0.5163376</td><td>-0.225959 </td><td>NA        </td></tr>\n",
       "\t<tr><td>Tracked   </td><td>0.0054227 </td><td>-0.4771209</td><td>-0.094050 </td><td>Tracked   </td><td>0.0026103 </td><td>-0.2029839</td><td>-0.035851 </td><td>Tracked   </td><td>-0.0010658</td><td>⋯         </td><td>-0.185420 </td><td>Tracked   </td><td>0.1756356 </td><td>-0.5728238</td><td>-0.222844 </td><td>Tracked   </td><td>0.2084125 </td><td>-0.5153852</td><td>-0.220391 </td><td>NA        </td></tr>\n",
       "\t<tr><td>Tracked   </td><td>0.0057861 </td><td>-0.4769895</td><td>-0.094013 </td><td>Tracked   </td><td>0.0028134 </td><td>-0.2029093</td><td>-0.035833 </td><td>Tracked   </td><td>-0.0011425</td><td>⋯         </td><td>-0.173595 </td><td>Tracked   </td><td>0.1772703 </td><td>-0.5741378</td><td>-0.221892 </td><td>Tracked   </td><td>0.2085854 </td><td>-0.5124486</td><td>-0.223321 </td><td>NA        </td></tr>\n",
       "\t<tr><td>Tracked   </td><td>0.0055807 </td><td>-0.4768855</td><td>-0.093323 </td><td>Tracked   </td><td>0.0027910 </td><td>-0.2028505</td><td>-0.035567 </td><td>Tracked   </td><td>-0.0011419</td><td>⋯         </td><td>-0.176221 </td><td>Tracked   </td><td>0.1747756 </td><td>-0.5743657</td><td>-0.219152 </td><td>Tracked   </td><td>0.2088702 </td><td>-0.5174851</td><td>-0.220151 </td><td>NA        </td></tr>\n",
       "</tbody>\n",
       "</table>\n"
      ],
      "text/latex": [
       "\\begin{tabular}{r|lllllllllllllllllllllllllllllllllllllllllllllllllllllllllllllllllllllllllllllllllllllllllllllllllllll}\n",
       " SpineBase\\_TrackingState & SpineBase\\_X & SpineBase\\_Y & SpineBase\\_Z & SpineMid\\_TrackingState & SpineMid\\_X & SpineMid\\_Y & SpineMid\\_Z & Neck\\_TrackingState & Neck\\_X & ⋯ & ThumbLeft\\_Z & HandTipRight\\_TrackingState & HandTipRight\\_X & HandTipRight\\_Y & HandTipRight\\_Z & ThumbRight\\_TrackingState & ThumbRight\\_X & ThumbRight\\_Y & ThumbRight\\_Z & X\\\\\n",
       "\\hline\n",
       "\t Tracked    & 0.0049814  & -0.4777506 & -0.094604  & Tracked    & 0.0023102  & -0.2031438 & -0.036066  & Tracked    & -0.0009004 & ⋯          & -0.187460  & Tracked    & 0.1697853  & -0.5750506 & -0.224507  & Tracked    & 0.2086767  & -0.5103750 & -0.223583  & NA        \\\\\n",
       "\t Tracked    & 0.0049341  & -0.4775558 & -0.094608  & Tracked    & 0.0023007  & -0.2030867 & -0.036069  & Tracked    & -0.0008993 & ⋯          & -0.185461  & Tracked    & 0.1739478  & -0.5721741 & -0.224037  & Tracked    & 0.2028010  & -0.5086105 & -0.230881  & NA        \\\\\n",
       "\t Tracked    & 0.0049264  & -0.4776506 & -0.094496  & Tracked    & 0.0023180  & -0.2031278 & -0.036012  & Tracked    & -0.0009072 & ⋯          & -0.188267  & Tracked    & 0.1733976  & -0.5705251 & -0.227683  & Tracked    & 0.2064261  & -0.5163376 & -0.225959  & NA        \\\\\n",
       "\t Tracked    & 0.0054227  & -0.4771209 & -0.094050  & Tracked    & 0.0026103  & -0.2029839 & -0.035851  & Tracked    & -0.0010658 & ⋯          & -0.185420  & Tracked    & 0.1756356  & -0.5728238 & -0.222844  & Tracked    & 0.2084125  & -0.5153852 & -0.220391  & NA        \\\\\n",
       "\t Tracked    & 0.0057861  & -0.4769895 & -0.094013  & Tracked    & 0.0028134  & -0.2029093 & -0.035833  & Tracked    & -0.0011425 & ⋯          & -0.173595  & Tracked    & 0.1772703  & -0.5741378 & -0.221892  & Tracked    & 0.2085854  & -0.5124486 & -0.223321  & NA        \\\\\n",
       "\t Tracked    & 0.0055807  & -0.4768855 & -0.093323  & Tracked    & 0.0027910  & -0.2028505 & -0.035567  & Tracked    & -0.0011419 & ⋯          & -0.176221  & Tracked    & 0.1747756  & -0.5743657 & -0.219152  & Tracked    & 0.2088702  & -0.5174851 & -0.220151  & NA        \\\\\n",
       "\\end{tabular}\n"
      ],
      "text/markdown": [
       "\n",
       "SpineBase_TrackingState | SpineBase_X | SpineBase_Y | SpineBase_Z | SpineMid_TrackingState | SpineMid_X | SpineMid_Y | SpineMid_Z | Neck_TrackingState | Neck_X | ⋯ | ThumbLeft_Z | HandTipRight_TrackingState | HandTipRight_X | HandTipRight_Y | HandTipRight_Z | ThumbRight_TrackingState | ThumbRight_X | ThumbRight_Y | ThumbRight_Z | X | \n",
       "|---|---|---|---|---|---|\n",
       "| Tracked    | 0.0049814  | -0.4777506 | -0.094604  | Tracked    | 0.0023102  | -0.2031438 | -0.036066  | Tracked    | -0.0009004 | ⋯          | -0.187460  | Tracked    | 0.1697853  | -0.5750506 | -0.224507  | Tracked    | 0.2086767  | -0.5103750 | -0.223583  | NA         | \n",
       "| Tracked    | 0.0049341  | -0.4775558 | -0.094608  | Tracked    | 0.0023007  | -0.2030867 | -0.036069  | Tracked    | -0.0008993 | ⋯          | -0.185461  | Tracked    | 0.1739478  | -0.5721741 | -0.224037  | Tracked    | 0.2028010  | -0.5086105 | -0.230881  | NA         | \n",
       "| Tracked    | 0.0049264  | -0.4776506 | -0.094496  | Tracked    | 0.0023180  | -0.2031278 | -0.036012  | Tracked    | -0.0009072 | ⋯          | -0.188267  | Tracked    | 0.1733976  | -0.5705251 | -0.227683  | Tracked    | 0.2064261  | -0.5163376 | -0.225959  | NA         | \n",
       "| Tracked    | 0.0054227  | -0.4771209 | -0.094050  | Tracked    | 0.0026103  | -0.2029839 | -0.035851  | Tracked    | -0.0010658 | ⋯          | -0.185420  | Tracked    | 0.1756356  | -0.5728238 | -0.222844  | Tracked    | 0.2084125  | -0.5153852 | -0.220391  | NA         | \n",
       "| Tracked    | 0.0057861  | -0.4769895 | -0.094013  | Tracked    | 0.0028134  | -0.2029093 | -0.035833  | Tracked    | -0.0011425 | ⋯          | -0.173595  | Tracked    | 0.1772703  | -0.5741378 | -0.221892  | Tracked    | 0.2085854  | -0.5124486 | -0.223321  | NA         | \n",
       "| Tracked    | 0.0055807  | -0.4768855 | -0.093323  | Tracked    | 0.0027910  | -0.2028505 | -0.035567  | Tracked    | -0.0011419 | ⋯          | -0.176221  | Tracked    | 0.1747756  | -0.5743657 | -0.219152  | Tracked    | 0.2088702  | -0.5174851 | -0.220151  | NA         | \n",
       "\n",
       "\n"
      ],
      "text/plain": [
       "  SpineBase_TrackingState SpineBase_X SpineBase_Y SpineBase_Z\n",
       "1 Tracked                 0.0049814   -0.4777506  -0.094604  \n",
       "2 Tracked                 0.0049341   -0.4775558  -0.094608  \n",
       "3 Tracked                 0.0049264   -0.4776506  -0.094496  \n",
       "4 Tracked                 0.0054227   -0.4771209  -0.094050  \n",
       "5 Tracked                 0.0057861   -0.4769895  -0.094013  \n",
       "6 Tracked                 0.0055807   -0.4768855  -0.093323  \n",
       "  SpineMid_TrackingState SpineMid_X SpineMid_Y SpineMid_Z Neck_TrackingState\n",
       "1 Tracked                0.0023102  -0.2031438 -0.036066  Tracked           \n",
       "2 Tracked                0.0023007  -0.2030867 -0.036069  Tracked           \n",
       "3 Tracked                0.0023180  -0.2031278 -0.036012  Tracked           \n",
       "4 Tracked                0.0026103  -0.2029839 -0.035851  Tracked           \n",
       "5 Tracked                0.0028134  -0.2029093 -0.035833  Tracked           \n",
       "6 Tracked                0.0027910  -0.2028505 -0.035567  Tracked           \n",
       "  Neck_X     ⋯ ThumbLeft_Z HandTipRight_TrackingState HandTipRight_X\n",
       "1 -0.0009004 ⋯ -0.187460   Tracked                    0.1697853     \n",
       "2 -0.0008993 ⋯ -0.185461   Tracked                    0.1739478     \n",
       "3 -0.0009072 ⋯ -0.188267   Tracked                    0.1733976     \n",
       "4 -0.0010658 ⋯ -0.185420   Tracked                    0.1756356     \n",
       "5 -0.0011425 ⋯ -0.173595   Tracked                    0.1772703     \n",
       "6 -0.0011419 ⋯ -0.176221   Tracked                    0.1747756     \n",
       "  HandTipRight_Y HandTipRight_Z ThumbRight_TrackingState ThumbRight_X\n",
       "1 -0.5750506     -0.224507      Tracked                  0.2086767   \n",
       "2 -0.5721741     -0.224037      Tracked                  0.2028010   \n",
       "3 -0.5705251     -0.227683      Tracked                  0.2064261   \n",
       "4 -0.5728238     -0.222844      Tracked                  0.2084125   \n",
       "5 -0.5741378     -0.221892      Tracked                  0.2085854   \n",
       "6 -0.5743657     -0.219152      Tracked                  0.2088702   \n",
       "  ThumbRight_Y ThumbRight_Z X \n",
       "1 -0.5103750   -0.223583    NA\n",
       "2 -0.5086105   -0.230881    NA\n",
       "3 -0.5163376   -0.225959    NA\n",
       "4 -0.5153852   -0.220391    NA\n",
       "5 -0.5124486   -0.223321    NA\n",
       "6 -0.5174851   -0.220151    NA"
      ]
     },
     "metadata": {},
     "output_type": "display_data"
    }
   ],
   "source": [
    "#---------------X\n",
    "#Mid\n",
    "skelly$Head_X <- (skelly$Head_X - skelly$SpineShoulder_X)\n",
    "skelly$Neck_X <- (skelly$Neck_X - skelly$SpineShoulder_X)\n",
    "skelly$SpineMid_X <- (skelly$SpineMid_X - skelly$SpineShoulder_X)\n",
    "skelly$SpineBase_X <- (skelly$SpineBase_X - skelly$SpineShoulder_X)\n",
    "\n",
    "#Left\n",
    "skelly$ShoulderLeft_X <- (skelly$ShoulderLeft_X - skelly$SpineShoulder_X)\n",
    "skelly$ElbowLeft_X <- (skelly$ElbowLeft_X - skelly$SpineShoulder_X)\n",
    "skelly$WristLeft_X <- (skelly$WristLeft_X - skelly$SpineShoulder_X)\n",
    "skelly$HandLeft_X <- (skelly$HandLeft_X - skelly$SpineShoulder_X)\n",
    "skelly$HandTipLeft_X <- (skelly$HandTipLeft_X - skelly$SpineShoulder_X)\n",
    "skelly$ThumbLeft_X <- (skelly$ThumbLeft_X - skelly$SpineShoulder_X)\n",
    "\n",
    "skelly$HipLeft_X <- (skelly$HipLeft_X - skelly$SpineShoulder_X)\n",
    "skelly$KneeLeft_X <- (skelly$KneeLeft_X - skelly$SpineShoulder_X)\n",
    "skelly$AnkleLeft_X <- (skelly$AnkleLeft_X - skelly$SpineShoulder_X)\n",
    "skelly$FootLeft_X <- (skelly$FootLeft_X - skelly$SpineShoulder_X)\n",
    "\n",
    "#Right\n",
    "skelly$ShoulderRight_X <- (skelly$ShoulderRight_X - skelly$SpineShoulder_X)\n",
    "skelly$ElbowRight_X <- (skelly$ElbowRight_X - skelly$SpineShoulder_X)\n",
    "skelly$WristRight_X <- (skelly$WristRight_X - skelly$SpineShoulder_X)\n",
    "skelly$HandRight_X <- (skelly$HandRight_X - skelly$SpineShoulder_X)\n",
    "skelly$HandTipRight_X <- (skelly$HandTipRight_X - skelly$SpineShoulder_X)\n",
    "skelly$ThumbRight_X <- (skelly$ThumbRight_X - skelly$SpineShoulder_X)\n",
    "\n",
    "skelly$HipRight_X <- (skelly$HipRight_X - skelly$SpineShoulder_X)\n",
    "skelly$KneeRight_X <- (skelly$KneeRight_X - skelly$SpineShoulder_X)\n",
    "skelly$AnkleRight_X <- (skelly$AnkleRight_X - skelly$SpineShoulder_X)\n",
    "skelly$FootRight_X <- (skelly$FootRight_X - skelly$SpineShoulder_X)\n",
    "\n",
    "skelly$SpineShoulder_X <- (skelly$SpineShoulder_X - skelly$SpineShoulder_X)\n",
    "\n",
    "#---------------Y\n",
    "\n",
    "#Mid\n",
    "skelly$Head_Y <- (skelly$Head_Y - skelly$SpineShoulder_Y)\n",
    "skelly$Neck_Y <- (skelly$Neck_Y - skelly$SpineShoulder_Y)\n",
    "skelly$SpineMid_Y <- (skelly$SpineMid_Y - skelly$SpineShoulder_Y)\n",
    "skelly$SpineBase_Y <- (skelly$SpineBase_Y - skelly$SpineShoulder_Y)\n",
    "\n",
    "#Left\n",
    "skelly$ShoulderLeft_Y <- (skelly$ShoulderLeft_Y - skelly$SpineShoulder_Y)\n",
    "skelly$ElbowLeft_Y <- (skelly$ElbowLeft_Y - skelly$SpineShoulder_Y)\n",
    "skelly$WristLeft_Y <- (skelly$WristLeft_Y - skelly$SpineShoulder_Y)\n",
    "skelly$HandLeft_Y <- (skelly$HandLeft_Y - skelly$SpineShoulder_Y)\n",
    "skelly$HandTipLeft_Y <- (skelly$HandTipLeft_Y - skelly$SpineShoulder_Y)\n",
    "skelly$ThumbLeft_Y <- (skelly$ThumbLeft_Y - skelly$SpineShoulder_Y)\n",
    "\n",
    "skelly$HipLeft_Y <- (skelly$HipLeft_Y - skelly$SpineShoulder_Y)\n",
    "skelly$KneeLeft_Y <- (skelly$KneeLeft_Y - skelly$SpineShoulder_Y)\n",
    "skelly$AnkleLeft_Y <- (skelly$AnkleLeft_Y - skelly$SpineShoulder_Y)\n",
    "skelly$FootLeft_Y <- (skelly$FootLeft_Y - skelly$SpineShoulder_Y)\n",
    "\n",
    "#Right\n",
    "skelly$ShoulderRight_Y <- (skelly$ShoulderRight_Y - skelly$SpineShoulder_Y)\n",
    "skelly$ElbowRight_Y <- (skelly$ElbowRight_Y - skelly$SpineShoulder_Y)\n",
    "skelly$WristRight_Y <- (skelly$WristRight_Y - skelly$SpineShoulder_Y)\n",
    "skelly$HandRight_Y <- (skelly$HandRight_Y - skelly$SpineShoulder_Y)\n",
    "skelly$HandTipRight_Y <- (skelly$HandTipRight_Y - skelly$SpineShoulder_Y)\n",
    "skelly$ThumbRight_Y <- (skelly$ThumbRight_Y - skelly$SpineShoulder_Y)\n",
    "\n",
    "skelly$HipRight_Y <- (skelly$HipRight_Y - skelly$SpineShoulder_Y)\n",
    "skelly$KneeRight_Y <- (skelly$KneeRight_Y - skelly$SpineShoulder_Y)\n",
    "skelly$AnkleRight_Y <- (skelly$AnkleRight_Y - skelly$SpineShoulder_Y)\n",
    "skelly$FootRight_Y <- (skelly$FootRight_Y - skelly$SpineShoulder_Y)\n",
    "\n",
    "skelly$SpineShoulder_Y <- (skelly$SpineShoulder_Y - skelly$SpineShoulder_Y)\n",
    "\n",
    "\n",
    "#---------------Z\n",
    "#Mid\n",
    "skelly$Head_Z <- (skelly$Head_Z - skelly$SpineShoulder_Z)\n",
    "skelly$Neck_Z <- (skelly$Neck_Z - skelly$SpineShoulder_Z)\n",
    "skelly$SpineMid_Z <- (skelly$SpineMid_Z - skelly$SpineShoulder_Z)\n",
    "skelly$SpineBase_Z <- (skelly$SpineBase_Z - skelly$SpineShoulder_Z)\n",
    "\n",
    "#Left\n",
    "skelly$ShoulderLeft_Z <- (skelly$ShoulderLeft_Z - skelly$SpineShoulder_Z)\n",
    "skelly$ElbowLeft_Z <- (skelly$ElbowLeft_Z - skelly$SpineShoulder_Z)\n",
    "skelly$WristLeft_Z <- (skelly$WristLeft_Z - skelly$SpineShoulder_Z)\n",
    "skelly$HandLeft_Z <- (skelly$HandLeft_Z - skelly$SpineShoulder_Z)\n",
    "skelly$HandTipLeft_Z <- (skelly$HandTipLeft_Z - skelly$SpineShoulder_Z)\n",
    "skelly$ThumbLeft_Z <- (skelly$ThumbLeft_Z - skelly$SpineShoulder_Z)\n",
    "\n",
    "skelly$HipLeft_Z <- (skelly$HipLeft_Z - skelly$SpineShoulder_Z)\n",
    "skelly$KneeLeft_Z <- (skelly$KneeLeft_Z - skelly$SpineShoulder_Z)\n",
    "skelly$AnkleLeft_Z <- (skelly$AnkleLeft_Z - skelly$SpineShoulder_Z)\n",
    "skelly$FootLeft_Z <- (skelly$FootLeft_Z - skelly$SpineShoulder_Z)\n",
    "\n",
    "#Right\n",
    "skelly$ShoulderRight_Z <- (skelly$ShoulderRight_Z - skelly$SpineShoulder_Z)\n",
    "skelly$ElbowRight_Z <- (skelly$ElbowRight_Z - skelly$SpineShoulder_Z)\n",
    "skelly$WristRight_Z <- (skelly$WristRight_Z - skelly$SpineShoulder_Z)\n",
    "skelly$HandRight_Z <- (skelly$HandRight_Z - skelly$SpineShoulder_Z)\n",
    "skelly$HandTipRight_Z <- (skelly$HandTipRight_Z - skelly$SpineShoulder_Z)\n",
    "skelly$ThumbRight_Z <- (skelly$ThumbRight_Z - skelly$SpineShoulder_Z)\n",
    "\n",
    "skelly$HipRight_Z <- (skelly$HipRight_Z - skelly$SpineShoulder_Z)\n",
    "skelly$KneeRight_Z <- (skelly$KneeRight_Z - skelly$SpineShoulder_Z)\n",
    "skelly$AnkleRight_Z <- (skelly$AnkleRight_Z - skelly$SpineShoulder_Z)\n",
    "skelly$FootRight_Z <- (skelly$FootRight_Z - skelly$SpineShoulder_Z)\n",
    "\n",
    "skelly$SpineShoulder_Z <- (skelly$SpineShoulder_Z - skelly$SpineShoulder_Z)\n",
    "\n",
    "head(skelly)"
   ]
  },
  {
   "cell_type": "markdown",
   "metadata": {},
   "source": [
    "Remove extra column"
   ]
  },
  {
   "cell_type": "code",
   "execution_count": 3,
   "metadata": {
    "collapsed": false
   },
   "outputs": [
    {
     "data": {
      "text/html": [
       "<table>\n",
       "<thead><tr><th scope=col>SpineBase_TrackingState</th><th scope=col>SpineBase_X</th><th scope=col>SpineBase_Y</th><th scope=col>SpineBase_Z</th><th scope=col>SpineMid_TrackingState</th><th scope=col>SpineMid_X</th><th scope=col>SpineMid_Y</th><th scope=col>SpineMid_Z</th><th scope=col>Neck_TrackingState</th><th scope=col>Neck_X</th><th scope=col>⋯</th><th scope=col>ThumbLeft_Y</th><th scope=col>ThumbLeft_Z</th><th scope=col>HandTipRight_TrackingState</th><th scope=col>HandTipRight_X</th><th scope=col>HandTipRight_Y</th><th scope=col>HandTipRight_Z</th><th scope=col>ThumbRight_TrackingState</th><th scope=col>ThumbRight_X</th><th scope=col>ThumbRight_Y</th><th scope=col>ThumbRight_Z</th></tr></thead>\n",
       "<tbody>\n",
       "\t<tr><td>Tracked   </td><td>0.0049814 </td><td>-0.4777506</td><td>-0.094604 </td><td>Tracked   </td><td>0.0023102 </td><td>-0.2031438</td><td>-0.036066 </td><td>Tracked   </td><td>-0.0009004</td><td>⋯         </td><td>-0.5189784</td><td>-0.187460 </td><td>Tracked   </td><td>0.1697853 </td><td>-0.5750506</td><td>-0.224507 </td><td>Tracked   </td><td>0.2086767 </td><td>-0.5103750</td><td>-0.223583 </td></tr>\n",
       "\t<tr><td>Tracked   </td><td>0.0049341 </td><td>-0.4775558</td><td>-0.094608 </td><td>Tracked   </td><td>0.0023007 </td><td>-0.2030867</td><td>-0.036069 </td><td>Tracked   </td><td>-0.0008993</td><td>⋯         </td><td>-0.5156079</td><td>-0.185461 </td><td>Tracked   </td><td>0.1739478 </td><td>-0.5721741</td><td>-0.224037 </td><td>Tracked   </td><td>0.2028010 </td><td>-0.5086105</td><td>-0.230881 </td></tr>\n",
       "\t<tr><td>Tracked   </td><td>0.0049264 </td><td>-0.4776506</td><td>-0.094496 </td><td>Tracked   </td><td>0.0023180 </td><td>-0.2031278</td><td>-0.036012 </td><td>Tracked   </td><td>-0.0009072</td><td>⋯         </td><td>-0.5131822</td><td>-0.188267 </td><td>Tracked   </td><td>0.1733976 </td><td>-0.5705251</td><td>-0.227683 </td><td>Tracked   </td><td>0.2064261 </td><td>-0.5163376</td><td>-0.225959 </td></tr>\n",
       "\t<tr><td>Tracked   </td><td>0.0054227 </td><td>-0.4771209</td><td>-0.094050 </td><td>Tracked   </td><td>0.0026103 </td><td>-0.2029839</td><td>-0.035851 </td><td>Tracked   </td><td>-0.0010658</td><td>⋯         </td><td>-0.5108376</td><td>-0.185420 </td><td>Tracked   </td><td>0.1756356 </td><td>-0.5728238</td><td>-0.222844 </td><td>Tracked   </td><td>0.2084125 </td><td>-0.5153852</td><td>-0.220391 </td></tr>\n",
       "\t<tr><td>Tracked   </td><td>0.0057861 </td><td>-0.4769895</td><td>-0.094013 </td><td>Tracked   </td><td>0.0028134 </td><td>-0.2029093</td><td>-0.035833 </td><td>Tracked   </td><td>-0.0011425</td><td>⋯         </td><td>-0.5248342</td><td>-0.173595 </td><td>Tracked   </td><td>0.1772703 </td><td>-0.5741378</td><td>-0.221892 </td><td>Tracked   </td><td>0.2085854 </td><td>-0.5124486</td><td>-0.223321 </td></tr>\n",
       "\t<tr><td>Tracked   </td><td>0.0055807 </td><td>-0.4768855</td><td>-0.093323 </td><td>Tracked   </td><td>0.0027910 </td><td>-0.2028505</td><td>-0.035567 </td><td>Tracked   </td><td>-0.0011419</td><td>⋯         </td><td>-0.5244575</td><td>-0.176221 </td><td>Tracked   </td><td>0.1747756 </td><td>-0.5743657</td><td>-0.219152 </td><td>Tracked   </td><td>0.2088702 </td><td>-0.5174851</td><td>-0.220151 </td></tr>\n",
       "</tbody>\n",
       "</table>\n"
      ],
      "text/latex": [
       "\\begin{tabular}{r|llllllllllllllllllllllllllllllllllllllllllllllllllllllllllllllllllllllllllllllllllllllllllllllllllll}\n",
       " SpineBase\\_TrackingState & SpineBase\\_X & SpineBase\\_Y & SpineBase\\_Z & SpineMid\\_TrackingState & SpineMid\\_X & SpineMid\\_Y & SpineMid\\_Z & Neck\\_TrackingState & Neck\\_X & ⋯ & ThumbLeft\\_Y & ThumbLeft\\_Z & HandTipRight\\_TrackingState & HandTipRight\\_X & HandTipRight\\_Y & HandTipRight\\_Z & ThumbRight\\_TrackingState & ThumbRight\\_X & ThumbRight\\_Y & ThumbRight\\_Z\\\\\n",
       "\\hline\n",
       "\t Tracked    & 0.0049814  & -0.4777506 & -0.094604  & Tracked    & 0.0023102  & -0.2031438 & -0.036066  & Tracked    & -0.0009004 & ⋯          & -0.5189784 & -0.187460  & Tracked    & 0.1697853  & -0.5750506 & -0.224507  & Tracked    & 0.2086767  & -0.5103750 & -0.223583 \\\\\n",
       "\t Tracked    & 0.0049341  & -0.4775558 & -0.094608  & Tracked    & 0.0023007  & -0.2030867 & -0.036069  & Tracked    & -0.0008993 & ⋯          & -0.5156079 & -0.185461  & Tracked    & 0.1739478  & -0.5721741 & -0.224037  & Tracked    & 0.2028010  & -0.5086105 & -0.230881 \\\\\n",
       "\t Tracked    & 0.0049264  & -0.4776506 & -0.094496  & Tracked    & 0.0023180  & -0.2031278 & -0.036012  & Tracked    & -0.0009072 & ⋯          & -0.5131822 & -0.188267  & Tracked    & 0.1733976  & -0.5705251 & -0.227683  & Tracked    & 0.2064261  & -0.5163376 & -0.225959 \\\\\n",
       "\t Tracked    & 0.0054227  & -0.4771209 & -0.094050  & Tracked    & 0.0026103  & -0.2029839 & -0.035851  & Tracked    & -0.0010658 & ⋯          & -0.5108376 & -0.185420  & Tracked    & 0.1756356  & -0.5728238 & -0.222844  & Tracked    & 0.2084125  & -0.5153852 & -0.220391 \\\\\n",
       "\t Tracked    & 0.0057861  & -0.4769895 & -0.094013  & Tracked    & 0.0028134  & -0.2029093 & -0.035833  & Tracked    & -0.0011425 & ⋯          & -0.5248342 & -0.173595  & Tracked    & 0.1772703  & -0.5741378 & -0.221892  & Tracked    & 0.2085854  & -0.5124486 & -0.223321 \\\\\n",
       "\t Tracked    & 0.0055807  & -0.4768855 & -0.093323  & Tracked    & 0.0027910  & -0.2028505 & -0.035567  & Tracked    & -0.0011419 & ⋯          & -0.5244575 & -0.176221  & Tracked    & 0.1747756  & -0.5743657 & -0.219152  & Tracked    & 0.2088702  & -0.5174851 & -0.220151 \\\\\n",
       "\\end{tabular}\n"
      ],
      "text/markdown": [
       "\n",
       "SpineBase_TrackingState | SpineBase_X | SpineBase_Y | SpineBase_Z | SpineMid_TrackingState | SpineMid_X | SpineMid_Y | SpineMid_Z | Neck_TrackingState | Neck_X | ⋯ | ThumbLeft_Y | ThumbLeft_Z | HandTipRight_TrackingState | HandTipRight_X | HandTipRight_Y | HandTipRight_Z | ThumbRight_TrackingState | ThumbRight_X | ThumbRight_Y | ThumbRight_Z | \n",
       "|---|---|---|---|---|---|\n",
       "| Tracked    | 0.0049814  | -0.4777506 | -0.094604  | Tracked    | 0.0023102  | -0.2031438 | -0.036066  | Tracked    | -0.0009004 | ⋯          | -0.5189784 | -0.187460  | Tracked    | 0.1697853  | -0.5750506 | -0.224507  | Tracked    | 0.2086767  | -0.5103750 | -0.223583  | \n",
       "| Tracked    | 0.0049341  | -0.4775558 | -0.094608  | Tracked    | 0.0023007  | -0.2030867 | -0.036069  | Tracked    | -0.0008993 | ⋯          | -0.5156079 | -0.185461  | Tracked    | 0.1739478  | -0.5721741 | -0.224037  | Tracked    | 0.2028010  | -0.5086105 | -0.230881  | \n",
       "| Tracked    | 0.0049264  | -0.4776506 | -0.094496  | Tracked    | 0.0023180  | -0.2031278 | -0.036012  | Tracked    | -0.0009072 | ⋯          | -0.5131822 | -0.188267  | Tracked    | 0.1733976  | -0.5705251 | -0.227683  | Tracked    | 0.2064261  | -0.5163376 | -0.225959  | \n",
       "| Tracked    | 0.0054227  | -0.4771209 | -0.094050  | Tracked    | 0.0026103  | -0.2029839 | -0.035851  | Tracked    | -0.0010658 | ⋯          | -0.5108376 | -0.185420  | Tracked    | 0.1756356  | -0.5728238 | -0.222844  | Tracked    | 0.2084125  | -0.5153852 | -0.220391  | \n",
       "| Tracked    | 0.0057861  | -0.4769895 | -0.094013  | Tracked    | 0.0028134  | -0.2029093 | -0.035833  | Tracked    | -0.0011425 | ⋯          | -0.5248342 | -0.173595  | Tracked    | 0.1772703  | -0.5741378 | -0.221892  | Tracked    | 0.2085854  | -0.5124486 | -0.223321  | \n",
       "| Tracked    | 0.0055807  | -0.4768855 | -0.093323  | Tracked    | 0.0027910  | -0.2028505 | -0.035567  | Tracked    | -0.0011419 | ⋯          | -0.5244575 | -0.176221  | Tracked    | 0.1747756  | -0.5743657 | -0.219152  | Tracked    | 0.2088702  | -0.5174851 | -0.220151  | \n",
       "\n",
       "\n"
      ],
      "text/plain": [
       "  SpineBase_TrackingState SpineBase_X SpineBase_Y SpineBase_Z\n",
       "1 Tracked                 0.0049814   -0.4777506  -0.094604  \n",
       "2 Tracked                 0.0049341   -0.4775558  -0.094608  \n",
       "3 Tracked                 0.0049264   -0.4776506  -0.094496  \n",
       "4 Tracked                 0.0054227   -0.4771209  -0.094050  \n",
       "5 Tracked                 0.0057861   -0.4769895  -0.094013  \n",
       "6 Tracked                 0.0055807   -0.4768855  -0.093323  \n",
       "  SpineMid_TrackingState SpineMid_X SpineMid_Y SpineMid_Z Neck_TrackingState\n",
       "1 Tracked                0.0023102  -0.2031438 -0.036066  Tracked           \n",
       "2 Tracked                0.0023007  -0.2030867 -0.036069  Tracked           \n",
       "3 Tracked                0.0023180  -0.2031278 -0.036012  Tracked           \n",
       "4 Tracked                0.0026103  -0.2029839 -0.035851  Tracked           \n",
       "5 Tracked                0.0028134  -0.2029093 -0.035833  Tracked           \n",
       "6 Tracked                0.0027910  -0.2028505 -0.035567  Tracked           \n",
       "  Neck_X     ⋯ ThumbLeft_Y ThumbLeft_Z HandTipRight_TrackingState\n",
       "1 -0.0009004 ⋯ -0.5189784  -0.187460   Tracked                   \n",
       "2 -0.0008993 ⋯ -0.5156079  -0.185461   Tracked                   \n",
       "3 -0.0009072 ⋯ -0.5131822  -0.188267   Tracked                   \n",
       "4 -0.0010658 ⋯ -0.5108376  -0.185420   Tracked                   \n",
       "5 -0.0011425 ⋯ -0.5248342  -0.173595   Tracked                   \n",
       "6 -0.0011419 ⋯ -0.5244575  -0.176221   Tracked                   \n",
       "  HandTipRight_X HandTipRight_Y HandTipRight_Z ThumbRight_TrackingState\n",
       "1 0.1697853      -0.5750506     -0.224507      Tracked                 \n",
       "2 0.1739478      -0.5721741     -0.224037      Tracked                 \n",
       "3 0.1733976      -0.5705251     -0.227683      Tracked                 \n",
       "4 0.1756356      -0.5728238     -0.222844      Tracked                 \n",
       "5 0.1772703      -0.5741378     -0.221892      Tracked                 \n",
       "6 0.1747756      -0.5743657     -0.219152      Tracked                 \n",
       "  ThumbRight_X ThumbRight_Y ThumbRight_Z\n",
       "1 0.2086767    -0.5103750   -0.223583   \n",
       "2 0.2028010    -0.5086105   -0.230881   \n",
       "3 0.2064261    -0.5163376   -0.225959   \n",
       "4 0.2084125    -0.5153852   -0.220391   \n",
       "5 0.2085854    -0.5124486   -0.223321   \n",
       "6 0.2088702    -0.5174851   -0.220151   "
      ]
     },
     "metadata": {},
     "output_type": "display_data"
    }
   ],
   "source": [
    "skelly$X <- NULL\n",
    "head(skelly)"
   ]
  },
  {
   "cell_type": "markdown",
   "metadata": {},
   "source": [
    "## Write out processed file:"
   ]
  },
  {
   "cell_type": "code",
   "execution_count": 4,
   "metadata": {
    "collapsed": false
   },
   "outputs": [],
   "source": [
    "write.table(skelly, file = \"skellyP.txt\", sep = ',', row.names = FALSE)"
   ]
  },
  {
   "cell_type": "code",
   "execution_count": null,
   "metadata": {
    "collapsed": true
   },
   "outputs": [],
   "source": []
  }
 ],
 "metadata": {
  "anaconda-cloud": {},
  "kernelspec": {
   "display_name": "R",
   "language": "R",
   "name": "ir"
  },
  "language_info": {
   "codemirror_mode": "r",
   "file_extension": ".r",
   "mimetype": "text/x-r-source",
   "name": "R",
   "pygments_lexer": "r",
   "version": "3.3.2"
  }
 },
 "nbformat": 4,
 "nbformat_minor": 1
}
